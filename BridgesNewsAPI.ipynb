{
 "cells": [
  {
   "cell_type": "code",
   "execution_count": 7,
   "id": "ba68a1e9-81ba-4492-a188-9bd0b9002f9f",
   "metadata": {},
   "outputs": [],
   "source": [
    "# pip install newsapi\n",
    "# pip install newsapi-python\n",
    "# pip install sumy\n",
    "# pip install -U gensim"
   ]
  },
  {
   "cell_type": "code",
   "execution_count": 8,
   "id": "a03fef79-76e8-47fa-a661-0bea65756d44",
   "metadata": {},
   "outputs": [],
   "source": [
    "from newsapi import NewsApiClient\n",
    "\n",
    "newsapi = NewsApiClient(api_key='6681a13517fe4af5b0977eb8eea7ed8d')"
   ]
  },
  {
   "cell_type": "code",
   "execution_count": 9,
   "id": "397ffcd8-cc40-454c-b9e1-9003c0fb5f04",
   "metadata": {},
   "outputs": [],
   "source": [
    "# importing pandas, numpy, regression package.\n",
    "import pandas as pd\n",
    "import numpy as np\n",
    "import re "
   ]
  },
  {
   "cell_type": "code",
   "execution_count": 10,
   "id": "e7a346a7-8da7-4ed7-a484-93b9470b26b0",
   "metadata": {},
   "outputs": [
    {
     "name": "stdout",
     "output_type": "stream",
     "text": [
      "Title: Cranes arriving to start removing wreckage from deadly Baltimore bridge collapse - NBC News\n",
      "Source: NBC News\n",
      "Published At: 2024-03-29T19:06:59Z\n",
      "Description: BALTIMORE — A crane appeared at the site of a collapsed highway bridge in Baltimore as crews prepared Friday to begin clearing wreckage that has stymied the search for four missing workers and blocked ships from entering or leaving the city’s vital port. A cr…\n",
      "URL: https://www.nbcnews.com/news/us-news/building-new-key-bridge-take-years-cost-least-400-million-experts-say-rcna145602\n",
      "\n",
      "Title: Baltimore bridge collapse: Eastern Seaboard's largest crane to clear wreckage - Hindustan Times\n",
      "Source: Hindustan Times\n",
      "Published At: 2024-03-29T17:34:19Z\n",
      "Description: A crane that can lift 1,000 tons — described as the largest on the Eastern Seaboard — had been expected to arrive late Thursday\n",
      "URL: https://www.hindustantimes.com/world-news/us-news/baltimore-bridge-collapse-eastern-seaboards-largest-crane-to-clear-wreckage-101711733165003.html\n",
      "\n",
      "{'status': 'ok', 'totalResults': 2, 'articles': [{'source': {'id': 'nbc-news', 'name': 'NBC News'}, 'author': 'The Associated Press, Marlene Lenthang', 'title': 'Cranes arriving to start removing wreckage from deadly Baltimore bridge collapse - NBC News', 'description': 'BALTIMORE — A crane appeared at the site of a collapsed highway bridge in Baltimore as crews prepared Friday to begin clearing wreckage that has stymied the search for four missing workers and blocked ships from entering or leaving the city’s vital port. A cr…', 'url': 'https://www.nbcnews.com/news/us-news/building-new-key-bridge-take-years-cost-least-400-million-experts-say-rcna145602', 'urlToImage': 'https://media-cldnry.s-nbcnews.com/image/upload/t_nbcnews-fp-1200-630,f_auto,q_auto:best/rockcms/2024-03/240329-francis-scott-key-bridge-al-0855-d9319e.jpg', 'publishedAt': '2024-03-29T19:06:59Z', 'content': 'BALTIMORE A crane appeared at the site of a\\xa0collapsed highway bridge in Baltimore as crews prepared Friday to begin clearing wreckage that has stymied the search for four missing workers and blocked … [+5738 chars]'}, {'source': {'id': None, 'name': 'Hindustan Times'}, 'author': 'AP', 'title': \"Baltimore bridge collapse: Eastern Seaboard's largest crane to clear wreckage - Hindustan Times\", 'description': 'A crane that can lift 1,000 tons — described as the largest on the Eastern Seaboard — had been expected to arrive late Thursday', 'url': 'https://www.hindustantimes.com/world-news/us-news/baltimore-bridge-collapse-eastern-seaboards-largest-crane-to-clear-wreckage-101711733165003.html', 'urlToImage': 'https://www.hindustantimes.com/ht-img/img/2024/03/29/1600x900/US-TRANSPORT-ACCIDENT-ECONOMY-22_1711733468290_1711733496779.jpg', 'publishedAt': '2024-03-29T17:34:19Z', 'content': 'A crane appeared at the site of a collapsed highway bridge in Baltimore as crews prepared Friday to begin clearing wreckage that has stymied the search for four missing workers and blocked ships from… [+5159 chars]'}]}\n"
     ]
    }
   ],
   "source": [
    "# Get top headlines related to world in English\n",
    "top_headlines = newsapi.get_top_headlines(q='Baltimore bridge', language='en')\n",
    "\n",
    "# Extracting information from each article in the response\n",
    "for article in top_headlines['articles']:\n",
    "    print(\"Title:\", article['title'])\n",
    "    print(\"Source:\", article['source']['name'])\n",
    "    print(\"Published At:\", article['publishedAt'])\n",
    "    print(\"Description:\", article['description'])\n",
    "    print(\"URL:\", article['url'])\n",
    "    print()  # Empty line for readability\n",
    "print(top_headlines)"
   ]
  },
  {
   "cell_type": "code",
   "execution_count": 11,
   "id": "b87963c8-21e5-4b79-9419-1cf6ef3e241a",
   "metadata": {},
   "outputs": [
    {
     "name": "stdout",
     "output_type": "stream",
     "text": [
      "Summary:\n",
      "A crane that can lift 1,000 tons — described as the largest on the Eastern Seaboard — had been expected to arrive late Thursday\n",
      "\n",
      "{'status': 'ok', 'totalResults': 2, 'articles': [{'source': {'id': 'nbc-news', 'name': 'NBC News'}, 'author': 'The Associated Press, Marlene Lenthang', 'title': 'Cranes arriving to start removing wreckage from deadly Baltimore bridge collapse - NBC News', 'description': 'BALTIMORE — A crane appeared at the site of a collapsed highway bridge in Baltimore as crews prepared Friday to begin clearing wreckage that has stymied the search for four missing workers and blocked ships from entering or leaving the city’s vital port. A cr…', 'url': 'https://www.nbcnews.com/news/us-news/building-new-key-bridge-take-years-cost-least-400-million-experts-say-rcna145602', 'urlToImage': 'https://media-cldnry.s-nbcnews.com/image/upload/t_nbcnews-fp-1200-630,f_auto,q_auto:best/rockcms/2024-03/240329-francis-scott-key-bridge-al-0855-d9319e.jpg', 'publishedAt': '2024-03-29T19:06:59Z', 'content': 'BALTIMORE A crane appeared at the site of a\\xa0collapsed highway bridge in Baltimore as crews prepared Friday to begin clearing wreckage that has stymied the search for four missing workers and blocked … [+5738 chars]'}, {'source': {'id': None, 'name': 'Hindustan Times'}, 'author': 'AP', 'title': \"Baltimore bridge collapse: Eastern Seaboard's largest crane to clear wreckage - Hindustan Times\", 'description': 'A crane that can lift 1,000 tons — described as the largest on the Eastern Seaboard — had been expected to arrive late Thursday', 'url': 'https://www.hindustantimes.com/world-news/us-news/baltimore-bridge-collapse-eastern-seaboards-largest-crane-to-clear-wreckage-101711733165003.html', 'urlToImage': 'https://www.hindustantimes.com/ht-img/img/2024/03/29/1600x900/US-TRANSPORT-ACCIDENT-ECONOMY-22_1711733468290_1711733496779.jpg', 'publishedAt': '2024-03-29T17:34:19Z', 'content': 'A crane appeared at the site of a collapsed highway bridge in Baltimore as crews prepared Friday to begin clearing wreckage that has stymied the search for four missing workers and blocked ships from… [+5159 chars]'}]}\n"
     ]
    }
   ],
   "source": [
    "from sumy.parsers.plaintext import PlaintextParser\n",
    "from sumy.nlp.tokenizers import Tokenizer\n",
    "from sumy.summarizers.lsa import LsaSummarizer\n",
    "\n",
    "# Extract the description\n",
    "description = article['description']\n",
    "    \n",
    "# Preprocess the text (if needed)\n",
    "# Here, we'll directly use the description for summarization\n",
    "    \n",
    "# Apply text summarization\n",
    "parser = PlaintextParser.from_string(description, Tokenizer(\"english\"))\n",
    "summarizer = LsaSummarizer()\n",
    "summary = summarizer(parser.document, sentences_count=2)  # Adjust the number of sentences as needed\n",
    "    \n",
    "# Print the summary\n",
    "print(\"Summary:\")\n",
    "for sentence in summary:\n",
    "    print(sentence)\n",
    "    \n",
    "print()  # Empty line for readability\n",
    "\n",
    "print(top_headlines)"
   ]
  },
  {
   "cell_type": "code",
   "execution_count": 34,
   "id": "37178af2-a4dd-4317-8b86-923c6dacd47e",
   "metadata": {},
   "outputs": [
    {
     "name": "stdout",
     "output_type": "stream",
     "text": [
      "Title: Cranes arriving to start removing wreckage from deadly Baltimore bridge collapse - NBC News\n",
      "Source: NBC News\n",
      "Published At: 2024-03-29T19:06:59Z\n",
      "Description: BALTIMORE — A crane appeared at the site of a collapsed highway bridge in Baltimore as crews prepared Friday to begin clearing wreckage that has stymied the search for four missing workers and blocked ships from entering or leaving the city’s vital port. A cr…\n",
      "URL: https://www.nbcnews.com/news/us-news/building-new-key-bridge-take-years-cost-least-400-million-experts-say-rcna145602\n",
      "Summary:\n",
      "BALTIMORE — A crane appeared at the site of a collapsed highway bridge in Baltimore as crews prepared Friday to begin clearing wreckage that has stymied the search for four missing workers and blocked ships from entering or leaving the city’s vital port.\n",
      "A cr…\n",
      "\n",
      "Title: Baltimore bridge collapse: Eastern Seaboard's largest crane to clear wreckage - Hindustan Times\n",
      "Source: Hindustan Times\n",
      "Published At: 2024-03-29T17:34:19Z\n",
      "Description: A crane that can lift 1,000 tons — described as the largest on the Eastern Seaboard — had been expected to arrive late Thursday\n",
      "URL: https://www.hindustantimes.com/world-news/us-news/baltimore-bridge-collapse-eastern-seaboards-largest-crane-to-clear-wreckage-101711733165003.html\n",
      "Summary:\n",
      "A crane that can lift 1,000 tons — described as the largest on the Eastern Seaboard — had been expected to arrive late Thursday\n",
      "\n",
      "{'status': 'ok', 'totalResults': 2, 'articles': [{'source': {'id': 'nbc-news', 'name': 'NBC News'}, 'author': 'The Associated Press, Marlene Lenthang', 'title': 'Cranes arriving to start removing wreckage from deadly Baltimore bridge collapse - NBC News', 'description': 'BALTIMORE — A crane appeared at the site of a collapsed highway bridge in Baltimore as crews prepared Friday to begin clearing wreckage that has stymied the search for four missing workers and blocked ships from entering or leaving the city’s vital port. A cr…', 'url': 'https://www.nbcnews.com/news/us-news/building-new-key-bridge-take-years-cost-least-400-million-experts-say-rcna145602', 'urlToImage': 'https://media-cldnry.s-nbcnews.com/image/upload/t_nbcnews-fp-1200-630,f_auto,q_auto:best/rockcms/2024-03/240329-francis-scott-key-bridge-al-0855-d9319e.jpg', 'publishedAt': '2024-03-29T19:06:59Z', 'content': 'BALTIMORE A crane appeared at the site of a\\xa0collapsed highway bridge in Baltimore as crews prepared Friday to begin clearing wreckage that has stymied the search for four missing workers and blocked … [+5738 chars]'}, {'source': {'id': None, 'name': 'Hindustan Times'}, 'author': 'AP', 'title': \"Baltimore bridge collapse: Eastern Seaboard's largest crane to clear wreckage - Hindustan Times\", 'description': 'A crane that can lift 1,000 tons — described as the largest on the Eastern Seaboard — had been expected to arrive late Thursday', 'url': 'https://www.hindustantimes.com/world-news/us-news/baltimore-bridge-collapse-eastern-seaboards-largest-crane-to-clear-wreckage-101711733165003.html', 'urlToImage': 'https://www.hindustantimes.com/ht-img/img/2024/03/29/1600x900/US-TRANSPORT-ACCIDENT-ECONOMY-22_1711733468290_1711733496779.jpg', 'publishedAt': '2024-03-29T17:34:19Z', 'content': 'A crane appeared at the site of a collapsed highway bridge in Baltimore as crews prepared Friday to begin clearing wreckage that has stymied the search for four missing workers and blocked ships from… [+5159 chars]'}]}\n"
     ]
    }
   ],
   "source": [
    "from sumy.parsers.plaintext import PlaintextParser\n",
    "from sumy.nlp.tokenizers import Tokenizer\n",
    "from sumy.summarizers.lsa import LsaSummarizer\n",
    "\n",
    "# Extracting information from each article in the response\n",
    "for article in top_headlines['articles']:\n",
    "    print(\"Title:\", article['title'])\n",
    "    print(\"Source:\", article['source']['name'])\n",
    "    print(\"Published At:\", article['publishedAt'])\n",
    "    print(\"Description:\", article['description'])\n",
    "    print(\"URL:\", article['url'])\n",
    "    \n",
    "    # Extract the description\n",
    "    description = article['description']\n",
    "    \n",
    "    # Preprocess the text (if needed)\n",
    "    # Here, we'll directly use the description for summarization\n",
    "    \n",
    "    # Apply text summarization\n",
    "    parser = PlaintextParser.from_string(description, Tokenizer(\"english\"))\n",
    "    summarizer = LsaSummarizer()\n",
    "    summary = summarizer(parser.document, sentences_count=2)  # Adjust the number of sentences as needed\n",
    "    \n",
    "    # Print the summary\n",
    "    print(\"Summary:\")\n",
    "    for sentence in summary:\n",
    "        print(sentence)\n",
    "    print()  # Empty line for readability\n",
    "\n",
    "print(top_headlines)"
   ]
  }
 ],
 "metadata": {
  "kernelspec": {
   "display_name": "Python 3 (ipykernel)",
   "language": "python",
   "name": "python3"
  },
  "language_info": {
   "codemirror_mode": {
    "name": "ipython",
    "version": 3
   },
   "file_extension": ".py",
   "mimetype": "text/x-python",
   "name": "python",
   "nbconvert_exporter": "python",
   "pygments_lexer": "ipython3",
   "version": "3.12.1"
  }
 },
 "nbformat": 4,
 "nbformat_minor": 5
}
