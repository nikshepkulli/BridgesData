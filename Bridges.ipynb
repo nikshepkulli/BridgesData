{
 "cells": [
  {
   "cell_type": "code",
   "execution_count": 8,
   "id": "ba68a1e9-81ba-4492-a188-9bd0b9002f9f",
   "metadata": {},
   "outputs": [
    {
     "name": "stdout",
     "output_type": "stream",
     "text": [
      "   STATE_CODE_001 STRUCTURE_NUMBER_008  RECORD_TYPE_005A  ROUTE_PREFIX_005B  \\\n",
      "0               9       00001                          1                  1   \n",
      "1               9       00002                          1                  1   \n",
      "2               9       00003                          1                  5   \n",
      "3               9       00004                          1                  1   \n",
      "4               9       00005                          1                  1   \n",
      "\n",
      "   SERVICE_LEVEL_005C ROUTE_NUMBER_005D  DIRECTION_005E  HIGHWAY_DISTRICT_002  \\\n",
      "0                   1             00095               0                     3   \n",
      "1                   1             00095               0                     3   \n",
      "2                   0             00000               0                     3   \n",
      "3                   1             00095               0                     3   \n",
      "4                   1             00095               0                     3   \n",
      "\n",
      "   COUNTY_CODE_003  PLACE_CODE_004  ... DTL_TYPE_OF_IMP  SPECIAL_CODE  \\\n",
      "0                1           33620  ...            14.0           NaN   \n",
      "1                1           33620  ...            47.0           NaN   \n",
      "2                1           33620  ...             NaN           NaN   \n",
      "3                1           33620  ...            17.0           NaN   \n",
      "4                1           33620  ...            47.0           NaN   \n",
      "\n",
      "  STEP_CODE STATUS_WITH_10YR_RULE  SUFFICIENCY_ASTERC  SUFFICIENCY_RATING  \\\n",
      "0       NaN                     1                 NaN                48.3   \n",
      "1       NaN                     0                 NaN                84.0   \n",
      "2       NaN                     2                 NaN                78.0   \n",
      "3       NaN                     0                 NaN                73.0   \n",
      "4       NaN                     0                 NaN                82.0   \n",
      "\n",
      "   STATUS_NO_10YR_RULE  CAT10  CAT23     CAT29  \n",
      "0                    1      P      4  12079.58  \n",
      "1                    0      F      6    605.52  \n",
      "2                    2      F      5    902.40  \n",
      "3                    0      F      5   1279.81  \n",
      "4                    0      F      6    832.46  \n",
      "\n",
      "[5 rows x 137 columns]\n"
     ]
    },
    {
     "name": "stderr",
     "output_type": "stream",
     "text": [
      "C:\\Users\\niksh\\AppData\\Local\\Temp\\ipykernel_23488\\674404420.py:18: DtypeWarning: Columns (75,98) have mixed types. Specify dtype option on import or set low_memory=False.\n",
      "  df = pd.read_csv(data_file, sep=',', encoding='latin1')  # Adjust separator and encoding as needed\n"
     ]
    }
   ],
   "source": [
    "import pandas as pd\n",
    "import requests\n",
    "from io import StringIO\n",
    "\n",
    "# URL of the text file\n",
    "url = \"https://www.fhwa.dot.gov/bridge/nbi/2018/delimited/CT18.txt\"\n",
    "\n",
    "# Send a GET request to fetch the data\n",
    "response = requests.get(url)\n",
    "\n",
    "# Check if the request was successful (status code 200)\n",
    "if response.status_code == 200:\n",
    "    # Extract the text data from the response\n",
    "    data = response.text\n",
    "    # Create a StringIO object to read the text data as a file-like object\n",
    "    data_file = StringIO(data)\n",
    "    # Read the data into a pandas DataFrame\n",
    "    df = pd.read_csv(data_file, sep=',', encoding='latin1')  # Adjust separator and encoding as needed\n",
    "    # Now 'df' contains the DataFrame with the data from the URL\n",
    "    print(df.head())  # Print the first few rows of the DataFrame\n",
    "else:\n",
    "    print(\"Failed to fetch data from the URL\")\n"
   ]
  }
 ],
 "metadata": {
  "kernelspec": {
   "display_name": "Python 3 (ipykernel)",
   "language": "python",
   "name": "python3"
  },
  "language_info": {
   "codemirror_mode": {
    "name": "ipython",
    "version": 3
   },
   "file_extension": ".py",
   "mimetype": "text/x-python",
   "name": "python",
   "nbconvert_exporter": "python",
   "pygments_lexer": "ipython3",
   "version": "3.12.1"
  }
 },
 "nbformat": 4,
 "nbformat_minor": 5
}
